{
 "cells": [
  {
   "cell_type": "markdown",
   "metadata": {},
   "source": [
    "## Write a code to get the input in the given format and print the output in the given format.\n",
    "\n",
    "\n",
    "**Input Description:**\n",
    "\n",
    "A single line contains a string.\n",
    "\n",
    "**Output Description:**\n",
    "\n",
    "Print the characters in a string separated by comma.\n",
    "\n",
    "**Sample Input :**\n",
    "\n",
    "guvi\n",
    "\n",
    "**Sample Output :**\n",
    "\n",
    "g,u,v,i"
   ]
  },
  {
   "cell_type": "code",
   "execution_count": 2,
   "metadata": {},
   "outputs": [
    {
     "name": "stdout",
     "output_type": "stream",
     "text": [
      "hello\n",
      "h,e,l,l,o\n"
     ]
    }
   ],
   "source": [
    "user = input()\n",
    "print(user)\n",
    "print(\",\".join(user))"
   ]
  }
 ],
 "metadata": {
  "kernelspec": {
   "display_name": "Python 3",
   "language": "python",
   "name": "python3"
  },
  "language_info": {
   "codemirror_mode": {
    "name": "ipython",
    "version": 3
   },
   "file_extension": ".py",
   "mimetype": "text/x-python",
   "name": "python",
   "nbconvert_exporter": "python",
   "pygments_lexer": "ipython3",
   "version": "3.12.8"
  }
 },
 "nbformat": 4,
 "nbformat_minor": 2
}
